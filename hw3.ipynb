{
  "nbformat": 4,
  "nbformat_minor": 0,
  "metadata": {
    "colab": {
      "provenance": [],
      "authorship_tag": "ABX9TyPktyCq+TFRKqbwr1YPcsWT",
      "include_colab_link": true
    },
    "kernelspec": {
      "name": "python3",
      "display_name": "Python 3"
    },
    "language_info": {
      "name": "python"
    }
  },
  "cells": [
    {
      "cell_type": "markdown",
      "metadata": {
        "id": "view-in-github",
        "colab_type": "text"
      },
      "source": [
        "<a href=\"https://colab.research.google.com/github/b313111008/hw3/blob/main/hw3.ipynb\" target=\"_parent\"><img src=\"https://colab.research.google.com/assets/colab-badge.svg\" alt=\"Open In Colab\"/></a>"
      ]
    },
    {
      "cell_type": "code",
      "execution_count": 1,
      "metadata": {
        "colab": {
          "base_uri": "https://localhost:8080/"
        },
        "id": "FEpBBsJf_X0W",
        "outputId": "40074c41-b970-4163-ea4c-1c21b5aedfdd"
      },
      "outputs": [
        {
          "output_type": "stream",
          "name": "stdout",
          "text": [
            "請輸入需要排列的數字33, 67, 8, 13, 54, 119, 3, 84, 25, 41\n",
            "[3, 8, 13, 25, 33, 41, 54, 67, 84, 119]\n"
          ]
        }
      ],
      "source": [
        "x=input(\"請輸入需要排列的數字\")\n",
        "a = x.split(\",\")\n",
        "a = [int(num)for num in a]\n",
        "\n",
        "def quicksort(a, start, end): \n",
        "    if start >= end :           \n",
        "        return\n",
        "\n",
        "    left = start     \n",
        "    right = end                    \n",
        "    pivot = a[start]                \n",
        "\n",
        "    while left != right:                                     \n",
        "        while a[right] > pivot and left < right:  \n",
        "            right -= 1\n",
        "        while a[left] <= pivot and left < right:  \n",
        "            left += 1\n",
        "        if left < right:                       \n",
        "            a[left], a[right] = a[right], a[left] \n",
        "\n",
        "   \n",
        "    a[start] = a[left] \n",
        "    a[left] = pivot\n",
        "\n",
        "    quicksort(a, start, left-1)  \n",
        "    quicksort(a, left+1, end)  \n",
        "\n",
        "quicksort(a, 0, len(a)-1)\n",
        "print(a)\n"
      ]
    }
  ]
}